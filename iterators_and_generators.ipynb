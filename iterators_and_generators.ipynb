{
  "cells": [
    {
      "cell_type": "markdown",
      "metadata": {
        "id": "vmafq5LUe-vL"
      },
      "source": [
        "# Iterators and Generators\n",
        "\n",
        "So far, you have seen things like"
      ]
    },
    {
      "cell_type": "code",
      "source": [],
      "metadata": {
        "id": "QpA-GNIAj4hW"
      },
      "execution_count": null,
      "outputs": []
    },
    {
      "cell_type": "markdown",
      "source": [
        "If you’ve ever struggled with handling huge amounts of data (who hasn’t?!), and your machine running out of memory, then you’ll love the concept of Iterators and generators in Python.\n",
        "\n",
        "Rather than putting all the data in the memory in one go, it would be better if we could work with it in bits, dealing with only that data that is required at that moment, right? This would reduce the load on our computer memory tremendously. And this is what iterators and generators do!"
      ],
      "metadata": {
        "id": "rpRDPr6oj4-S"
      }
    },
    {
      "cell_type": "code",
      "execution_count": null,
      "metadata": {
        "id": "SNW7A0ore-vR",
        "outputId": "136499b5-0944-411b-e89f-2f4145b84f9a"
      },
      "outputs": [
        {
          "name": "stdout",
          "output_type": "stream",
          "text": [
            "1\n",
            "2\n",
            "3\n"
          ]
        }
      ],
      "source": [
        "a = [1,2,3]\n",
        "for x in a:\n",
        "    print(x)"
      ]
    },
    {
      "cell_type": "code",
      "source": [],
      "metadata": {
        "id": "aa-Zfi-nmYfk"
      },
      "execution_count": null,
      "outputs": []
    },
    {
      "cell_type": "markdown",
      "source": [
        " similar type of iteration known as definite iteration, which means going through the same code a predefined number of times. This kind of iteration is especially useful when you need to iterate over the items of a data stream one by one in a loop."
      ],
      "metadata": {
        "id": "PPhIU6DimaeL"
      }
    },
    {
      "cell_type": "markdown",
      "source": [
        "When you use a while or for loop to repeat a piece of code several times, you’re actually running an iteration. That’s the name given to the process itself.\n",
        "\n",
        "In Python, if your iteration process requires going through the values or items in a data collection one item at a time, then you’ll need another piece to complete the puzzle. You’ll need an iterator."
      ],
      "metadata": {
        "id": "fIJ9bA1vnEtg"
      }
    },
    {
      "cell_type": "markdown",
      "source": [
        "Iterators take responsibility for two main actions:\n",
        "\n",
        ". Returning the data from a stream or container one item at a time\n",
        "\n",
        ". Keeping track of the current and visited items"
      ],
      "metadata": {
        "id": "p1ToV9fDoCPL"
      }
    },
    {
      "cell_type": "markdown",
      "source": [
        "In Python, an iterator is an object that allows you to iterate over collections of data, such as lists, tuples, dictionaries, and sets.\n",
        "\n",
        "Python iterators implement the iterator design pattern, which allows you to traverse a container and access its elements. The iterator pattern decouples the iteration algorithms from container data structures."
      ],
      "metadata": {
        "id": "kDdLM57HohbE"
      }
    },
    {
      "cell_type": "markdown",
      "source": [
        "A Python object is considered an iterator when it implements two special methods collectively known as the iterator protocol. These two methods make Python iterators work. So, if you want to create custom iterator classes, then you must implement the following methods:\n",
        "\n",
        "Method\tDescription\n",
        ".__iter__()\tCalled to initialize the iterator. It must return an iterator object.\n",
        ".__next__()\tCalled to iterate over the iterator. It must return the next value in the data stream."
      ],
      "metadata": {
        "id": "QTW5KJhcohhG"
      }
    },
    {
      "cell_type": "markdown",
      "source": [
        "An iterator is an object representing a stream of data i.e. iterable. They implement something known as the Iterator protocol in Python."
      ],
      "metadata": {
        "id": "-W4BBx2Uohiy"
      }
    },
    {
      "cell_type": "markdown",
      "source": [
        "An iterator is an object representing a stream of data i.e. iterable. They implement something known as the Iterator protocol in Python. What is that?\n",
        "\n",
        "Well, the Iterator protocol allows us to loop over items in an iterable using two methods: __iter__() and __next__(). All iterables and iterators have the __iter__() method which returns an iterator.\n",
        "\n",
        "An iterator keeps track of the current state of an iterable.\n",
        "\n",
        "But what sets iterables and iterators apart is the __next__() method accessible only to iterators. This allows the iterators to return the next value in the iterable, whenever it is asked for it"
      ],
      "metadata": {
        "id": "ESu4GARTohox"
      }
    },
    {
      "cell_type": "markdown",
      "source": [
        "creating a simple iterable, a list, and an iterator from it using the __iter__() method:"
      ],
      "metadata": {
        "id": "AVtTyePlqKqJ"
      }
    },
    {
      "cell_type": "markdown",
      "source": [],
      "metadata": {
        "id": "NI8puCogp6SG"
      }
    },
    {
      "cell_type": "code",
      "source": [
        "sample = ['AI', 'Internet of Things', 'Deep learning']\n",
        "# generating an iterator\n",
        "it = sample.__iter__()\n",
        "print(it)\n",
        "# iterables do not have __next__() method\n",
        "sample.__next__()"
      ],
      "metadata": {
        "colab": {
          "base_uri": "https://localhost:8080/",
          "height": 228
        },
        "id": "UpRh9X2EqmRh",
        "outputId": "93d5fd01-968d-4663-8a5d-37aba70d5198"
      },
      "execution_count": null,
      "outputs": [
        {
          "output_type": "stream",
          "name": "stdout",
          "text": [
            "<list_iterator object at 0x7851c5eb7a30>\n"
          ]
        },
        {
          "output_type": "error",
          "ename": "AttributeError",
          "evalue": "ignored",
          "traceback": [
            "\u001b[0;31m---------------------------------------------------------------------------\u001b[0m",
            "\u001b[0;31mAttributeError\u001b[0m                            Traceback (most recent call last)",
            "\u001b[0;32m<ipython-input-1-44824953daff>\u001b[0m in \u001b[0;36m<cell line: 6>\u001b[0;34m()\u001b[0m\n\u001b[1;32m      4\u001b[0m \u001b[0mprint\u001b[0m\u001b[0;34m(\u001b[0m\u001b[0mit\u001b[0m\u001b[0;34m)\u001b[0m\u001b[0;34m\u001b[0m\u001b[0;34m\u001b[0m\u001b[0m\n\u001b[1;32m      5\u001b[0m \u001b[0;31m# iterables do not have __next__() method\u001b[0m\u001b[0;34m\u001b[0m\u001b[0;34m\u001b[0m\u001b[0m\n\u001b[0;32m----> 6\u001b[0;31m \u001b[0msample\u001b[0m\u001b[0;34m.\u001b[0m\u001b[0m__next__\u001b[0m\u001b[0;34m(\u001b[0m\u001b[0;34m)\u001b[0m\u001b[0;34m\u001b[0m\u001b[0;34m\u001b[0m\u001b[0m\n\u001b[0m",
            "\u001b[0;31mAttributeError\u001b[0m: 'list' object has no attribute '__next__'"
          ]
        }
      ]
    },
    {
      "cell_type": "markdown",
      "source": [
        "iterators are also iterables but not vice-versa. And they are their own iterators"
      ],
      "metadata": {
        "id": "K4ynYFgOrsG7"
      }
    },
    {
      "cell_type": "code",
      "source": [
        "sample = ['AI', 'Internet of Things', 'Deep learning']\n",
        "\n",
        "it = sample.__iter__()\n",
        "print(type(it))\n",
        "itit = it.__iter__()\n",
        "print(type(itit))\n",
        "print(itit.__next__())\n",
        "print(itit.__next__())\n",
        "print(itit.__next__())"
      ],
      "metadata": {
        "id": "HLDljyhbrupa",
        "outputId": "4516af29-ab22-4cf9-a443-78110ebbfe7b",
        "colab": {
          "base_uri": "https://localhost:8080/"
        }
      },
      "execution_count": null,
      "outputs": [
        {
          "output_type": "stream",
          "name": "stdout",
          "text": [
            "<class 'list_iterator'>\n",
            "<class 'list_iterator'>\n",
            "AI\n",
            "Internet of Things\n",
            "Deep learning\n"
          ]
        }
      ]
    },
    {
      "cell_type": "code",
      "source": [
        "# iterator\n",
        "it = iter(sample)\n",
        "\n",
        "# next values\n",
        "print(next(it))\n",
        "print(next(it))\n",
        "print(next(it))"
      ],
      "metadata": {
        "id": "RP1tHmBDsjqy",
        "outputId": "74183a16-91b1-4e72-dc23-9a658e59b2db",
        "colab": {
          "base_uri": "https://localhost:8080/"
        }
      },
      "execution_count": null,
      "outputs": [
        {
          "output_type": "stream",
          "name": "stdout",
          "text": [
            "AI\n",
            "Internet of Things\n",
            "Deep learning\n"
          ]
        }
      ]
    },
    {
      "cell_type": "code",
      "source": [
        "print(next(it))"
      ],
      "metadata": {
        "id": "IaSrd4cpsntI",
        "outputId": "c551220c-0901-4181-d271-fc553a0d3e3d",
        "colab": {
          "base_uri": "https://localhost:8080/",
          "height": 176
        }
      },
      "execution_count": null,
      "outputs": [
        {
          "output_type": "error",
          "ename": "StopIteration",
          "evalue": "ignored",
          "traceback": [
            "\u001b[0;31m---------------------------------------------------------------------------\u001b[0m",
            "\u001b[0;31mStopIteration\u001b[0m                             Traceback (most recent call last)",
            "\u001b[0;32m<ipython-input-4-4d0222393be1>\u001b[0m in \u001b[0;36m<cell line: 1>\u001b[0;34m()\u001b[0m\n\u001b[0;32m----> 1\u001b[0;31m \u001b[0mprint\u001b[0m\u001b[0;34m(\u001b[0m\u001b[0mnext\u001b[0m\u001b[0;34m(\u001b[0m\u001b[0mit\u001b[0m\u001b[0;34m)\u001b[0m\u001b[0;34m)\u001b[0m\u001b[0;34m\u001b[0m\u001b[0;34m\u001b[0m\u001b[0m\n\u001b[0m",
            "\u001b[0;31mStopIteration\u001b[0m: "
          ]
        }
      ]
    },
    {
      "cell_type": "markdown",
      "source": [
        "we get an error! If we try to access the next value after reaching the end of an iterable, a StopIteration exception will be raised which simply says “you can’t go further!”."
      ],
      "metadata": {
        "id": "CIO2KOrWs-lP"
      }
    },
    {
      "cell_type": "code",
      "source": [
        "it = iter(sample)\n",
        "while True:\n",
        "    # this will execute till an error is raised\n",
        "    try:\n",
        "        val = next(it)\n",
        "    # when we reach end of the list, error is raised and we break out of the loop\n",
        "    except StopIteration:\n",
        "        break\n",
        "    print(val)"
      ],
      "metadata": {
        "id": "rkJaBDqetD_V",
        "outputId": "0604f28b-9719-4691-82cc-7b3428c4540d",
        "colab": {
          "base_uri": "https://localhost:8080/"
        }
      },
      "execution_count": null,
      "outputs": [
        {
          "output_type": "stream",
          "name": "stdout",
          "text": [
            "AI\n",
            "Internet of Things\n",
            "Deep learning\n"
          ]
        }
      ]
    },
    {
      "cell_type": "markdown",
      "source": [
        "**If you take a step back, you will realize that this is precisely how the for-loop works under the hood. What we did with the loop we made here manually, for-loop does the same thing automatically. And that is why for-loops are preferred for looping over the iterables because they automatically deal with the exception.**\n",
        "\n",
        "**Whenever we are iterating over an iterable, the for-loop knows which item to be iterated over using iter() and returns the subsequent items using the next() method.**"
      ],
      "metadata": {
        "id": "omx0jbyvtJNw"
      }
    },
    {
      "cell_type": "code",
      "source": [],
      "metadata": {
        "id": "AdSf1lRftXd3"
      },
      "execution_count": null,
      "outputs": []
    },
    {
      "cell_type": "markdown",
      "source": [
        "we know how Python iterators work, we can dive deeper and create one ourselves from scratch just to get a better understanding of how things work.\n",
        "\n",
        "I am going to create a simple iterator for printing all the even numbers:"
      ],
      "metadata": {
        "id": "suqEPvvrvg9O"
      }
    },
    {
      "cell_type": "code",
      "source": [
        "class Sequence():\n",
        "    def __init__(self):\n",
        "        self.num = 2\n",
        "    def __iter__(self):\n",
        "        return self\n",
        "    def __next__(self):\n",
        "        val = self.num\n",
        "        self.num += 2\n",
        "        return val"
      ],
      "metadata": {
        "id": "hy6giQirtXqE"
      },
      "execution_count": null,
      "outputs": []
    },
    {
      "cell_type": "code",
      "source": [],
      "metadata": {
        "id": "iCJ8zRUSv5rv"
      },
      "execution_count": null,
      "outputs": []
    },
    {
      "cell_type": "markdown",
      "source": [
        "The __init__() method is a class constructor and is the first thing that gets executed when a class is called. It is used to assign any values initially that will be required by the class during the program execution. I have initiated the num variable with 2 here\n",
        "\n",
        "The iter() and next() methods are what make this class an iterator\n",
        "\n",
        "The iter() method returns the iterator object and initializes the iteration. Since the class object is itself an iterator, therefore it returns itself\n",
        "\n",
        "The next() method returns the current value from the iterator and changes the state for the next call. We update the value of the num variable by 2 since we are only printing even numbers"
      ],
      "metadata": {
        "id": "mVkxhXWxv_GG"
      }
    },
    {
      "cell_type": "markdown",
      "source": [],
      "metadata": {
        "id": "PM2J12y1wG63"
      }
    },
    {
      "cell_type": "code",
      "source": [
        "it = Sequence()\n",
        "print(next(it))\n",
        "print(next(it))\n",
        "print(next(it))\n",
        "print(next(it))\n",
        "print(next(it))"
      ],
      "metadata": {
        "id": "yyXg-PbZwFuJ",
        "outputId": "dfcd927a-935b-46eb-d2f5-235d41c8f419",
        "colab": {
          "base_uri": "https://localhost:8080/"
        }
      },
      "execution_count": null,
      "outputs": [
        {
          "output_type": "stream",
          "name": "stdout",
          "text": [
            "2\n",
            "4\n",
            "6\n",
            "8\n",
            "10\n"
          ]
        }
      ]
    },
    {
      "cell_type": "code",
      "source": [],
      "metadata": {
        "id": "NsLn5gjtwFxt"
      },
      "execution_count": null,
      "outputs": []
    },
    {
      "cell_type": "markdown",
      "source": [
        "Since I did not mention any condition that will determine the end of the sequence, the iterator will keep on returning the next value forever. But we can easily update it with the stop condition:"
      ],
      "metadata": {
        "id": "HXA1UpCPwGKy"
      }
    },
    {
      "cell_type": "code",
      "source": [
        "class Sequence():\n",
        "    def __init__(self):\n",
        "        self.num = 2\n",
        "    def __iter__(self):\n",
        "        return self\n",
        "    def __next__(self):\n",
        "        val = self.num\n",
        "        if val>10:\n",
        "            raise StopIteration\n",
        "        self.num += 2\n",
        "        return val"
      ],
      "metadata": {
        "id": "Nj10Lm16wTM9"
      },
      "execution_count": null,
      "outputs": []
    },
    {
      "cell_type": "markdown",
      "source": [
        " just included an if statement that stops the iteration whenever the value overshoots 10"
      ],
      "metadata": {
        "id": "HyZGlOC7wgn1"
      }
    },
    {
      "cell_type": "code",
      "source": [
        "it = Sequence()\n",
        "for i in it:\n",
        "    print(i)"
      ],
      "metadata": {
        "id": "9MvgZ4a0whsl",
        "outputId": "7f3253d3-d4c5-4f82-962f-765011dbba27",
        "colab": {
          "base_uri": "https://localhost:8080/"
        }
      },
      "execution_count": null,
      "outputs": [
        {
          "output_type": "stream",
          "name": "stdout",
          "text": [
            "2\n",
            "4\n",
            "6\n",
            "8\n",
            "10\n"
          ]
        }
      ]
    },
    {
      "cell_type": "markdown",
      "source": [
        "**Generators** are also iterators but are much more elegant. Using a generator, we can achieve the same thing as an iterator but don’t have to write the iter() and next() functions in a class.\n",
        "\n",
        "Instead, we could use a simple function to achieve the same task as an iterator"
      ],
      "metadata": {
        "id": "idMd9cMNw5zj"
      }
    },
    {
      "cell_type": "code",
      "source": [
        "# fibonacci sequence using a generator\n",
        "def fib():\n",
        "    prev, curr = 0, 1\n",
        "    # infinite loop\n",
        "    while prev<5:\n",
        "        value = prev\n",
        "        # Calculate the next number in the sequence. Using Tuple unpacking.\n",
        "        prev, curr = curr, prev + curr\n",
        "        # yield the value\n",
        "        yield value"
      ],
      "metadata": {
        "id": "T73A5Eugw_cS"
      },
      "execution_count": null,
      "outputs": []
    },
    {
      "cell_type": "code",
      "source": [],
      "metadata": {
        "id": "00TlpkIGxDh7"
      },
      "execution_count": null,
      "outputs": []
    },
    {
      "cell_type": "markdown",
      "source": [
        "Normal functions return values using the return keyword. But generator functions return values using a yield keyword.\n",
        "\n",
        " This is what sets the generator function apart from normal functions (apart from this distinction, they are absolutely the same)."
      ],
      "metadata": {
        "id": "cvaH_MkWyJgS"
      }
    },
    {
      "cell_type": "markdown",
      "source": [
        "The yield keyword works like a normal return keyword but with additional functionality – it remembers the state of the function.\n",
        "\n",
        " So the next time the generator function is called, it doesn’t start from scratch but from where it was left-off in the last call."
      ],
      "metadata": {
        "id": "UjSrhASayKiC"
      }
    },
    {
      "cell_type": "code",
      "source": [
        "# generator object\n",
        "gen=fib()\n",
        "print(gen)\n",
        "# values\n",
        "print(next(gen))\n",
        "print(next(gen))\n",
        "print(next(gen))\n",
        "print(next(gen))\n",
        "print(next(gen))"
      ],
      "metadata": {
        "id": "CchN6rIxySS4",
        "outputId": "15351d7e-61c8-4b25-edee-94e0b02cfedc",
        "colab": {
          "base_uri": "https://localhost:8080/"
        }
      },
      "execution_count": null,
      "outputs": [
        {
          "output_type": "stream",
          "name": "stdout",
          "text": [
            "<generator object fib at 0x7851b18480b0>\n",
            "0\n",
            "1\n",
            "1\n",
            "2\n",
            "3\n"
          ]
        }
      ]
    },
    {
      "cell_type": "markdown",
      "source": [
        "Generators are of ‘generator’ type which is a special type of iterator but is still an iterator, so they are also lazy workers. They won’t return any value unless explicitly told to do so by the next() method.\n",
        "\n",
        "**Initially, when the object for fib() generator function is created, it initializes the prev and curr variables.**\n",
        "\n",
        "**Now, when the next() method is called on the object, the generator function computes the values and returns the output, while at the same time remembering the state of the function. So, the next time a next() method is called, the function picks up from where it left off last time and resumes from there.**"
      ],
      "metadata": {
        "id": "Zbye6QOuyzN5"
      }
    },
    {
      "cell_type": "markdown",
      "source": [
        "# The function will keep on generating values every time it is asked by the next() method until the prev becomes greater than 5, at which point, a StopIteration error will be raised as shown below:"
      ],
      "metadata": {
        "id": "51yZN9w3yzZi"
      }
    },
    {
      "cell_type": "markdown",
      "source": [
        "You don’t have to write a function every time you want to execute a generator. You could instead use a generator expression, much like list comprehension. The only difference is that unlike a list comprehension, a generator expression is enclosed within parenthesis like the one below:"
      ],
      "metadata": {
        "id": "vfiUDmE-zFmP"
      }
    },
    {
      "cell_type": "code",
      "source": [
        "squared_gen = (x*x for x in range(2,5))\n",
        "print(squared_gen)"
      ],
      "metadata": {
        "id": "0ElTQLZ4zi1I",
        "outputId": "367f3209-f8cf-4fb9-a72c-139a8ac4925b",
        "colab": {
          "base_uri": "https://localhost:8080/"
        }
      },
      "execution_count": null,
      "outputs": [
        {
          "output_type": "stream",
          "name": "stdout",
          "text": [
            "<generator object <genexpr> at 0x7851b1848200>\n"
          ]
        }
      ]
    },
    {
      "cell_type": "code",
      "source": [],
      "metadata": {
        "id": "cdwpUda5zorp"
      },
      "execution_count": null,
      "outputs": []
    },
    {
      "cell_type": "markdown",
      "source": [
        "But they are still lazy, so you need to use the next() method. However, you know by now that using for-loops is a better option to return the values"
      ],
      "metadata": {
        "id": "nt42gpn9zxwO"
      }
    },
    {
      "cell_type": "code",
      "source": [
        "for i in squared_gen:\n",
        "    print(i)"
      ],
      "metadata": {
        "id": "IJJhzVLSzyrI",
        "outputId": "0f139ab4-9b30-48b3-bcd0-407f17c0494e",
        "colab": {
          "base_uri": "https://localhost:8080/"
        }
      },
      "execution_count": null,
      "outputs": [
        {
          "output_type": "stream",
          "name": "stdout",
          "text": [
            "4\n",
            "9\n",
            "16\n"
          ]
        }
      ]
    },
    {
      "cell_type": "code",
      "source": [],
      "metadata": {
        "id": "WoOMCp4dzo1U"
      },
      "execution_count": null,
      "outputs": []
    },
    {
      "cell_type": "markdown",
      "source": [
        "Generator expressions are very useful when you want to write simple code because they are easy to read and comprehend. But their functionality decreases rapidly as the code becomes more complex. This is where you will find yourself resorting back to generator functions which provide greater flexibility in terms of writing more sophisticated functions"
      ],
      "metadata": {
        "id": "gwlgshLt0EIt"
      }
    },
    {
      "cell_type": "code",
      "source": [],
      "metadata": {
        "id": "zhNaW1Q40F3n"
      },
      "execution_count": null,
      "outputs": []
    },
    {
      "cell_type": "markdown",
      "source": [
        "**you use Iterators because they save us a ton of memory. This is because Iterators don’t compute their items when they are generated, but only when they are called upon.**\n",
        "\n",
        "list containing 10 million items and a generator containing the same amount of items, the difference in their sizes will be shocking:"
      ],
      "metadata": {
        "id": "n6v9N6JJ0EME"
      }
    },
    {
      "cell_type": "code",
      "source": [
        "import sys\n",
        "# list comprehension\n",
        "mylist = [i for i in range(10000000)]\n",
        "print('Size of list in memory',sys.getsizeof(mylist))\n",
        "# generator expression\n",
        "mygen = (i for i in range(10000000))\n",
        "print('Size of generator in memory',sys.getsizeof(mygen))"
      ],
      "metadata": {
        "id": "5tWeqw3g0Utu",
        "outputId": "5b83c016-b445-4c17-bd02-e3df87442ef5",
        "colab": {
          "base_uri": "https://localhost:8080/"
        }
      },
      "execution_count": null,
      "outputs": [
        {
          "output_type": "stream",
          "name": "stdout",
          "text": [
            "Size of list in memory 89095160\n",
            "Size of generator in memory 104\n"
          ]
        }
      ]
    },
    {
      "cell_type": "markdown",
      "source": [
        "For the same size as the list and generator, we have a huge difference in their sizes. That is the beauty of iterators.\n",
        "\n",
        "And not just that, you could use iterators to read text from a file line-by-line instead of reading everything in one go. This will again save you a lot of memory especially if the file is huge.\n",
        "\n",
        "Here, let’s use generators to read a file iteratively. For this, we can create a simple generator expression to open files lazily, that is, to read one line at a time:"
      ],
      "metadata": {
        "id": "GO-TuPI-0thc"
      }
    },
    {
      "cell_type": "code",
      "source": [
        "file = \"sample.txt\"\n",
        "# generator expression\n",
        "lines = (line for line in open(file))\n",
        "print(lines)\n",
        "# print lines\n",
        "print(next(lines))\n",
        "print(next(lines))\n",
        "print(next(lines))"
      ],
      "metadata": {
        "id": "A0Hg8B6601FD",
        "outputId": "786a35f0-a4b7-46bf-d89e-da1f557295fd",
        "colab": {
          "base_uri": "https://localhost:8080/",
          "height": 245
        }
      },
      "execution_count": null,
      "outputs": [
        {
          "output_type": "error",
          "ename": "FileNotFoundError",
          "evalue": "ignored",
          "traceback": [
            "\u001b[0;31m---------------------------------------------------------------------------\u001b[0m",
            "\u001b[0;31mFileNotFoundError\u001b[0m                         Traceback (most recent call last)",
            "\u001b[0;32m<ipython-input-15-4e456eda73c5>\u001b[0m in \u001b[0;36m<cell line: 3>\u001b[0;34m()\u001b[0m\n\u001b[1;32m      1\u001b[0m \u001b[0mfile\u001b[0m \u001b[0;34m=\u001b[0m \u001b[0;34m\"Greetings.txt\"\u001b[0m\u001b[0;34m\u001b[0m\u001b[0;34m\u001b[0m\u001b[0m\n\u001b[1;32m      2\u001b[0m \u001b[0;31m# generator expression\u001b[0m\u001b[0;34m\u001b[0m\u001b[0;34m\u001b[0m\u001b[0m\n\u001b[0;32m----> 3\u001b[0;31m \u001b[0mlines\u001b[0m \u001b[0;34m=\u001b[0m \u001b[0;34m(\u001b[0m\u001b[0mline\u001b[0m \u001b[0;32mfor\u001b[0m \u001b[0mline\u001b[0m \u001b[0;32min\u001b[0m \u001b[0mopen\u001b[0m\u001b[0;34m(\u001b[0m\u001b[0mfile\u001b[0m\u001b[0;34m)\u001b[0m\u001b[0;34m)\u001b[0m\u001b[0;34m\u001b[0m\u001b[0;34m\u001b[0m\u001b[0m\n\u001b[0m\u001b[1;32m      4\u001b[0m \u001b[0mprint\u001b[0m\u001b[0;34m(\u001b[0m\u001b[0mlines\u001b[0m\u001b[0;34m)\u001b[0m\u001b[0;34m\u001b[0m\u001b[0;34m\u001b[0m\u001b[0m\n\u001b[1;32m      5\u001b[0m \u001b[0;31m# print lines\u001b[0m\u001b[0;34m\u001b[0m\u001b[0;34m\u001b[0m\u001b[0m\n",
            "\u001b[0;31mFileNotFoundError\u001b[0m: [Errno 2] No such file or directory: 'Greetings.txt'"
          ]
        }
      ]
    },
    {
      "cell_type": "markdown",
      "metadata": {
        "id": "g2mRouX3e-vU"
      },
      "source": [
        "This looks very different from a C-style for loop where we loop over the variable index:\n",
        "```C++\n",
        "for (size_t i = 0; i < 3; i++) {\n",
        "    printf(\"%d\\n\", i);\n",
        "}\n",
        "```\n",
        "\n",
        "Or for instance, we can use something called a `range`"
      ]
    },
    {
      "cell_type": "code",
      "execution_count": null,
      "metadata": {
        "id": "lHPV6eRHe-vV",
        "outputId": "d19beffb-b374-4f2b-a4d1-fbd74bb7046a"
      },
      "outputs": [
        {
          "name": "stdout",
          "output_type": "stream",
          "text": [
            "0\n",
            "1\n",
            "2\n"
          ]
        }
      ],
      "source": [
        "for i in range(3):\n",
        "    print(i)"
      ]
    },
    {
      "cell_type": "markdown",
      "metadata": {
        "id": "RX58hLx_e-vW"
      },
      "source": [
        "or other data types"
      ]
    },
    {
      "cell_type": "code",
      "execution_count": null,
      "metadata": {
        "id": "Hk5fntUve-vW",
        "outputId": "73911019-f5e6-4e11-c146-3b878591c13e"
      },
      "outputs": [
        {
          "name": "stdout",
          "output_type": "stream",
          "text": [
            "hello  :  1\n",
            "goodbye  :  2\n"
          ]
        }
      ],
      "source": [
        "d = {\"hello\": 1, \"goodbye\": 2}\n",
        "for k,v in d.items():\n",
        "    print(k, ' : ', v)"
      ]
    },
    {
      "cell_type": "markdown",
      "metadata": {
        "id": "B0vHTDwhe-vX"
      },
      "source": [
        "The key to using this sort of syntax is the concept of [iterator](https://wiki.python.org/moin/Iterator).  This is common in object-oriented programming (not just in Python), but you probably haven't seen iterators before if you've only used imperative languages.\n",
        "\n",
        "An object is **iterable** if it implements the `__iter__` method, which is expected to return an iterator object.\n",
        "An object is an **iterator** if it implements the `__next__` method, which either\n",
        "1. returns the next element of the iterable object\n",
        "2. raises the `StopIteration` exception if there are no more elements to iterate over"
      ]
    },
    {
      "cell_type": "markdown",
      "metadata": {
        "id": "mYPreLhUe-vY"
      },
      "source": [
        "## A Basic Iterator\n",
        "\n",
        "What if we want to replicate `range`?  "
      ]
    },
    {
      "cell_type": "code",
      "execution_count": null,
      "metadata": {
        "id": "T2CJ-ehoe-vZ",
        "outputId": "56a07024-8ee6-47f9-cf35-8fdb4c2632e3"
      },
      "outputs": [
        {
          "data": {
            "text/plain": [
              "range"
            ]
          },
          "execution_count": 6,
          "metadata": {},
          "output_type": "execute_result"
        }
      ],
      "source": [
        "r = range(3)\n",
        "type(r)"
      ]
    },
    {
      "cell_type": "markdown",
      "metadata": {
        "id": "2x0MZLB0e-va"
      },
      "source": [
        "we can produce an iterator using the `iter` function"
      ]
    },
    {
      "cell_type": "code",
      "execution_count": null,
      "metadata": {
        "id": "gh0VIBo2e-va",
        "outputId": "8405d01b-91d7-4eec-f233-5bfe714cb429"
      },
      "outputs": [
        {
          "data": {
            "text/plain": [
              "range_iterator"
            ]
          },
          "execution_count": 7,
          "metadata": {},
          "output_type": "execute_result"
        }
      ],
      "source": [
        "ri = iter(r)\n",
        "type(ri)"
      ]
    },
    {
      "cell_type": "markdown",
      "metadata": {
        "id": "uTdnhOFie-vb"
      },
      "source": [
        "we can explicitly run through the iterator using the `next` function"
      ]
    },
    {
      "cell_type": "code",
      "execution_count": null,
      "metadata": {
        "id": "C-JDE-Tce-vb",
        "outputId": "7e12400e-3110-4925-cfba-daedbc817a67"
      },
      "outputs": [
        {
          "ename": "StopIteration",
          "evalue": "",
          "output_type": "error",
          "traceback": [
            "\u001b[0;31m---------------------------------------------------------------------------\u001b[0m",
            "\u001b[0;31mStopIteration\u001b[0m                             Traceback (most recent call last)",
            "\u001b[0;32m<ipython-input-11-e29b1d0ccf05>\u001b[0m in \u001b[0;36m<module>\u001b[0;34m\u001b[0m\n\u001b[0;32m----> 1\u001b[0;31m \u001b[0mnext\u001b[0m\u001b[0;34m(\u001b[0m\u001b[0mri\u001b[0m\u001b[0;34m)\u001b[0m\u001b[0;34m\u001b[0m\u001b[0;34m\u001b[0m\u001b[0m\n\u001b[0m",
            "\u001b[0;31mStopIteration\u001b[0m: "
          ]
        }
      ],
      "source": [
        "next(ri)"
      ]
    },
    {
      "cell_type": "code",
      "execution_count": null,
      "metadata": {
        "id": "r9Al-Ivze-vc",
        "outputId": "118dd0b4-18d4-4e84-9633-234a83fbc395"
      },
      "outputs": [
        {
          "name": "stdout",
          "output_type": "stream",
          "text": [
            "1\n",
            "3\n"
          ]
        }
      ],
      "source": [
        "r = range(1,5,2)\n",
        "ri = iter(r)\n",
        "print(next(ri))\n",
        "print(next(ri))\n"
      ]
    },
    {
      "cell_type": "code",
      "execution_count": null,
      "metadata": {
        "id": "OGJTjrUoe-vd"
      },
      "outputs": [],
      "source": [
        "class my_range_iterator(object):\n",
        "    def __init__(self, start, stop, stride):\n",
        "        self.state = start\n",
        "        self.stop = stop\n",
        "        self.stride = stride\n",
        "\n",
        "    def __next__(self):\n",
        "        if self.state >= self.stop:\n",
        "            raise StopIteration  # signals \"the end\"\n",
        "        ret = self.state # we'll return current state\n",
        "        self.state += self.stride # increment state\n",
        "        return ret\n",
        "\n",
        "\n",
        "# an iterable\n",
        "class my_range(object):\n",
        "    def __init__(self, start, stop, stride=1):\n",
        "        self.start = start\n",
        "        self.stop = stop\n",
        "        self.stride = stride\n",
        "\n",
        "    def __iter__(self):\n",
        "        return my_range_iterator(self.start, self.stop, self.stride)"
      ]
    },
    {
      "cell_type": "code",
      "execution_count": null,
      "metadata": {
        "id": "AnkSpimqe-vd",
        "outputId": "af9d5ac8-06c6-4024-bd4f-535b0a6acc5e"
      },
      "outputs": [
        {
          "data": {
            "text/plain": [
              "__main__.my_range"
            ]
          },
          "execution_count": 15,
          "metadata": {},
          "output_type": "execute_result"
        }
      ],
      "source": [
        "r = my_range(0,3)\n",
        "type(r)"
      ]
    },
    {
      "cell_type": "code",
      "execution_count": null,
      "metadata": {
        "id": "yymxOVMJe-ve",
        "outputId": "d288c059-4a15-46b2-8f17-5e000b23bbb0"
      },
      "outputs": [
        {
          "data": {
            "text/plain": [
              "__main__.my_range_iterator"
            ]
          },
          "execution_count": 16,
          "metadata": {},
          "output_type": "execute_result"
        }
      ],
      "source": [
        "ri = iter(r)\n",
        "type(ri)"
      ]
    },
    {
      "cell_type": "code",
      "execution_count": null,
      "metadata": {
        "id": "2mYB6BIje-vf",
        "outputId": "8fb6e507-16b8-482f-8509-7b7915e66107"
      },
      "outputs": [
        {
          "ename": "StopIteration",
          "evalue": "",
          "output_type": "error",
          "traceback": [
            "\u001b[0;31m---------------------------------------------------------------------------\u001b[0m",
            "\u001b[0;31mStopIteration\u001b[0m                             Traceback (most recent call last)",
            "\u001b[0;32m<ipython-input-20-e29b1d0ccf05>\u001b[0m in \u001b[0;36m<module>\u001b[0;34m\u001b[0m\n\u001b[0;32m----> 1\u001b[0;31m \u001b[0mnext\u001b[0m\u001b[0;34m(\u001b[0m\u001b[0mri\u001b[0m\u001b[0;34m)\u001b[0m\u001b[0;34m\u001b[0m\u001b[0;34m\u001b[0m\u001b[0m\n\u001b[0m",
            "\u001b[0;32m<ipython-input-14-f6ee4fb10d39>\u001b[0m in \u001b[0;36m__next__\u001b[0;34m(self)\u001b[0m\n\u001b[1;32m      7\u001b[0m     \u001b[0;32mdef\u001b[0m \u001b[0m__next__\u001b[0m\u001b[0;34m(\u001b[0m\u001b[0mself\u001b[0m\u001b[0;34m)\u001b[0m\u001b[0;34m:\u001b[0m\u001b[0;34m\u001b[0m\u001b[0;34m\u001b[0m\u001b[0m\n\u001b[1;32m      8\u001b[0m         \u001b[0;32mif\u001b[0m \u001b[0mself\u001b[0m\u001b[0;34m.\u001b[0m\u001b[0mstate\u001b[0m \u001b[0;34m>=\u001b[0m \u001b[0mself\u001b[0m\u001b[0;34m.\u001b[0m\u001b[0mstop\u001b[0m\u001b[0;34m:\u001b[0m\u001b[0;34m\u001b[0m\u001b[0;34m\u001b[0m\u001b[0m\n\u001b[0;32m----> 9\u001b[0;31m             \u001b[0;32mraise\u001b[0m \u001b[0mStopIteration\u001b[0m  \u001b[0;31m# signals \"the end\"\u001b[0m\u001b[0;34m\u001b[0m\u001b[0;34m\u001b[0m\u001b[0m\n\u001b[0m\u001b[1;32m     10\u001b[0m         \u001b[0mret\u001b[0m \u001b[0;34m=\u001b[0m \u001b[0mself\u001b[0m\u001b[0;34m.\u001b[0m\u001b[0mstate\u001b[0m \u001b[0;31m# we'll return current state\u001b[0m\u001b[0;34m\u001b[0m\u001b[0;34m\u001b[0m\u001b[0m\n\u001b[1;32m     11\u001b[0m         \u001b[0mself\u001b[0m\u001b[0;34m.\u001b[0m\u001b[0mstate\u001b[0m \u001b[0;34m+=\u001b[0m \u001b[0mself\u001b[0m\u001b[0;34m.\u001b[0m\u001b[0mstride\u001b[0m \u001b[0;31m# increment state\u001b[0m\u001b[0;34m\u001b[0m\u001b[0;34m\u001b[0m\u001b[0m\n",
            "\u001b[0;31mStopIteration\u001b[0m: "
          ]
        }
      ],
      "source": [
        "next(ri)"
      ]
    },
    {
      "cell_type": "code",
      "execution_count": null,
      "metadata": {
        "id": "5IqEC0WNe-vf",
        "outputId": "961494c8-3d4f-4ab2-d8f3-866840e3f962"
      },
      "outputs": [
        {
          "name": "stdout",
          "output_type": "stream",
          "text": [
            "0\n",
            "1\n",
            "2\n"
          ]
        }
      ],
      "source": [
        "for i in my_range(0,3):\n",
        "    print(i)"
      ]
    },
    {
      "cell_type": "code",
      "execution_count": null,
      "metadata": {
        "id": "BV6f3AmGe-vf",
        "outputId": "bb3e5a16-bfce-4a20-a268-c4493d6cdc14"
      },
      "outputs": [
        {
          "name": "stdout",
          "output_type": "stream",
          "text": [
            "0\n",
            "1\n",
            "2\n"
          ]
        }
      ],
      "source": [
        "for i in range(0,3):\n",
        "    print(i)"
      ]
    },
    {
      "cell_type": "markdown",
      "metadata": {
        "id": "DJZYmIVae-vg"
      },
      "source": [
        "You can also create classes that are both iterators and iterables"
      ]
    },
    {
      "cell_type": "code",
      "execution_count": null,
      "metadata": {
        "id": "4PvIvt7Me-vg"
      },
      "outputs": [],
      "source": [
        "# an iterable and iterator\n",
        "class my_range2(object):\n",
        "    def __init__(self, start, stop, stride=1):\n",
        "        self.start = start\n",
        "        self.stop = stop\n",
        "        self.stride = stride\n",
        "        self.state = start\n",
        "\n",
        "    def __iter__(self):\n",
        "        return self\n",
        "\n",
        "    def __next__(self):\n",
        "        if self.state >= self.stop:\n",
        "            raise StopIteration  # signals \"the end\"\n",
        "        ret = self.state # we'll return current state\n",
        "        self.state += self.stride # increment state\n",
        "        return ret"
      ]
    },
    {
      "cell_type": "markdown",
      "metadata": {
        "id": "vVoBQ96Qe-vg"
      },
      "source": [
        "## Using Iterators for Computation\n",
        "\n",
        "Let's now use iterators for something more interesting - computing the Fibonacci numbers."
      ]
    },
    {
      "cell_type": "code",
      "execution_count": null,
      "metadata": {
        "id": "C7PyexfFe-vg"
      },
      "outputs": [],
      "source": [
        "class FibonacciIterator(object):\n",
        "    def __init__(self):\n",
        "        self.a = 0 # current number\n",
        "        self.b = 1 # next number\n",
        "\n",
        "    def __iter__(self):\n",
        "        return self\n",
        "\n",
        "    def __next__(self):\n",
        "        ret = self.a\n",
        "        self.a, self.b = self.b, self.a + self.b # advance the iteration\n",
        "        return ret"
      ]
    },
    {
      "cell_type": "code",
      "execution_count": null,
      "metadata": {
        "id": "6lGIY94Se-vg",
        "outputId": "1be0e129-09d4-4fbe-a82c-3b14811f4eb5"
      },
      "outputs": [
        {
          "name": "stdout",
          "output_type": "stream",
          "text": [
            "0\n",
            "1\n",
            "1\n",
            "2\n",
            "3\n",
            "5\n",
            "8\n",
            "13\n",
            "21\n",
            "34\n",
            "55\n",
            "89\n",
            "144\n",
            "233\n",
            "377\n",
            "610\n",
            "987\n"
          ]
        }
      ],
      "source": [
        "for i in FibonacciIterator():\n",
        "    if i > 1000:\n",
        "        break\n",
        "    print(i)"
      ]
    },
    {
      "cell_type": "markdown",
      "metadata": {
        "id": "_5WtdCNve-vh"
      },
      "source": [
        "Note that we never raise a `StopIteration` exception - the iterator will just keep going if we let it."
      ]
    },
    {
      "cell_type": "markdown",
      "metadata": {
        "id": "Za6sapSCe-vh"
      },
      "source": [
        "### Exercise\n",
        "\n",
        "Define `FibonacciIterator` so it will iterate over all Fibonacci numbers until they are greater than a parameter `n`."
      ]
    },
    {
      "cell_type": "code",
      "execution_count": null,
      "metadata": {
        "id": "hJqPDSrQe-vh"
      },
      "outputs": [],
      "source": [
        "## Your code here\n"
      ]
    },
    {
      "cell_type": "code",
      "execution_count": null,
      "metadata": {
        "id": "yKK1WlrWe-vh"
      },
      "outputs": [],
      "source": []
    },
    {
      "cell_type": "markdown",
      "metadata": {
        "id": "9UA0sRuPe-vh"
      },
      "source": [
        "## Generators\n",
        "\n",
        "Often, a more elegant way to define an iterator is using a [generator](https://wiki.python.org/moin/Generators)\n",
        "\n",
        "This is a special kind of iterator defined using a function instead of using classes that implement the `__iter__` and `__next__` methods.\n",
        "\n",
        "See [this post](https://nvie.com/posts/iterators-vs-generators/) for more discussion."
      ]
    },
    {
      "cell_type": "code",
      "execution_count": null,
      "metadata": {
        "id": "-4woP87se-vh"
      },
      "outputs": [],
      "source": [
        "def my_range3(state, stop, stride=1):\n",
        "    while state < stop:\n",
        "        yield state\n",
        "        state += stride\n"
      ]
    },
    {
      "cell_type": "markdown",
      "metadata": {
        "id": "xi9eTpJ7e-vh"
      },
      "source": [
        "Note that we use the `def` keyword instead of the `class` keyword for our declaration.  The `yield` keyword returns subsequent values of the iteration."
      ]
    },
    {
      "cell_type": "code",
      "execution_count": null,
      "metadata": {
        "id": "0cfspdZCe-vi",
        "outputId": "6e620095-d8c0-4483-f983-3b1d8c8d18ee"
      },
      "outputs": [
        {
          "data": {
            "text/plain": [
              "generator"
            ]
          },
          "execution_count": 37,
          "metadata": {},
          "output_type": "execute_result"
        }
      ],
      "source": [
        "r = my_range3(0,3)\n",
        "type(r)"
      ]
    },
    {
      "cell_type": "code",
      "execution_count": null,
      "metadata": {
        "id": "R-TfOucIe-vi",
        "outputId": "460f7d75-749a-434f-b22d-cac62be5ca72"
      },
      "outputs": [
        {
          "data": {
            "text/plain": [
              "generator"
            ]
          },
          "execution_count": 38,
          "metadata": {},
          "output_type": "execute_result"
        }
      ],
      "source": [
        "ri = iter(r)\n",
        "type(ri)"
      ]
    },
    {
      "cell_type": "code",
      "execution_count": null,
      "metadata": {
        "id": "yTRVBAh6e-vi",
        "outputId": "7a794ada-6cdb-460a-a13f-b7b9a92e738d"
      },
      "outputs": [
        {
          "ename": "StopIteration",
          "evalue": "",
          "output_type": "error",
          "traceback": [
            "\u001b[0;31m---------------------------------------------------------------------------\u001b[0m",
            "\u001b[0;31mStopIteration\u001b[0m                             Traceback (most recent call last)",
            "\u001b[0;32m<ipython-input-42-e29b1d0ccf05>\u001b[0m in \u001b[0;36m<module>\u001b[0;34m\u001b[0m\n\u001b[0;32m----> 1\u001b[0;31m \u001b[0mnext\u001b[0m\u001b[0;34m(\u001b[0m\u001b[0mri\u001b[0m\u001b[0;34m)\u001b[0m\u001b[0;34m\u001b[0m\u001b[0;34m\u001b[0m\u001b[0m\n\u001b[0m",
            "\u001b[0;31mStopIteration\u001b[0m: "
          ]
        }
      ],
      "source": [
        "next(ri)"
      ]
    },
    {
      "cell_type": "code",
      "execution_count": null,
      "metadata": {
        "id": "sHhegZtae-vi",
        "outputId": "928cff99-3974-4e02-c84a-f1ae83192dc8"
      },
      "outputs": [
        {
          "name": "stdout",
          "output_type": "stream",
          "text": [
            "0\n",
            "1\n",
            "2\n"
          ]
        }
      ],
      "source": [
        "for i in my_range3(0,3):\n",
        "    print(i)"
      ]
    },
    {
      "cell_type": "markdown",
      "metadata": {
        "id": "w8ZCeQZ3e-vj"
      },
      "source": [
        "Our Fibonacci example re-written using a generator:"
      ]
    },
    {
      "cell_type": "code",
      "execution_count": null,
      "metadata": {
        "id": "STlgLyade-vj"
      },
      "outputs": [],
      "source": [
        "def FibonacciGenerator():\n",
        "    a = 0\n",
        "    b = 1\n",
        "    while True:\n",
        "        yield a\n",
        "        a, b = b, a + b"
      ]
    },
    {
      "cell_type": "code",
      "execution_count": null,
      "metadata": {
        "id": "DHJ1ntnje-vj",
        "outputId": "a844e472-52f7-4b32-e810-b67b10e6db11"
      },
      "outputs": [
        {
          "name": "stdout",
          "output_type": "stream",
          "text": [
            "0\n",
            "1\n",
            "1\n",
            "2\n",
            "3\n",
            "5\n",
            "8\n",
            "13\n",
            "21\n",
            "34\n",
            "55\n",
            "89\n",
            "144\n",
            "233\n",
            "377\n",
            "610\n",
            "987\n"
          ]
        }
      ],
      "source": [
        "for i in FibonacciGenerator():\n",
        "    if i > 1000:\n",
        "        break\n",
        "    print(i)\n"
      ]
    },
    {
      "cell_type": "markdown",
      "metadata": {
        "id": "qJDv0L0de-vp"
      },
      "source": [
        "### Exercise\n",
        "\n",
        "Define `FibonacciGenerator` so it will iterate over all Fibonacci numbers until they are greater than a parameter `n`."
      ]
    },
    {
      "cell_type": "code",
      "execution_count": null,
      "metadata": {
        "id": "QhfDROZ3e-vq"
      },
      "outputs": [],
      "source": [
        "## Your code here\n"
      ]
    },
    {
      "cell_type": "code",
      "execution_count": null,
      "metadata": {
        "id": "DKABjZjze-vq",
        "outputId": "3c156e86-b767-4ccb-ae59-9497154f8d08"
      },
      "outputs": [
        {
          "name": "stdout",
          "output_type": "stream",
          "text": [
            "0\n",
            "1\n",
            "1\n",
            "2\n",
            "3\n",
            "5\n",
            "8\n",
            "13\n",
            "21\n",
            "34\n",
            "55\n",
            "89\n",
            "144\n",
            "233\n",
            "377\n",
            "610\n",
            "987\n"
          ]
        }
      ],
      "source": [
        "def FibonacciGenerator(n):\n",
        "    a = 0\n",
        "    b = 1\n",
        "    while a < n:\n",
        "        yield a\n",
        "        a, b = b, a + b\n",
        "\n",
        "for i in FibonacciGenerator(1000):\n",
        "    print(i)"
      ]
    },
    {
      "cell_type": "markdown",
      "metadata": {
        "id": "wEa-ry8Re-vq"
      },
      "source": [
        "## Iteration tools\n",
        "\n",
        "Some useful tools for iterators that come in handy are:\n",
        "\n",
        "`zip` - iterates over multiple iterators simulataneously"
      ]
    },
    {
      "cell_type": "code",
      "execution_count": null,
      "metadata": {
        "id": "D0qgS6WTe-v1",
        "outputId": "b1ef9b3c-4ed8-4ef5-f791-5afd066faf1c"
      },
      "outputs": [
        {
          "name": "stdout",
          "output_type": "stream",
          "text": [
            "0 a\n",
            "1 b\n",
            "2 c\n"
          ]
        }
      ],
      "source": [
        "for i, a in zip([0,1,2], ['a', 'b', 'c']):\n",
        "    print(i,a)"
      ]
    },
    {
      "cell_type": "markdown",
      "metadata": {
        "id": "e4sIMOQ1e-v1"
      },
      "source": [
        "`reversed` - iterates in reverse order"
      ]
    },
    {
      "cell_type": "code",
      "execution_count": null,
      "metadata": {
        "id": "VA8r_M1we-v2",
        "outputId": "3337c841-4358-4a5c-b5cb-60d66449f0b8"
      },
      "outputs": [
        {
          "name": "stdout",
          "output_type": "stream",
          "text": [
            "2\n",
            "1\n",
            "0\n"
          ]
        }
      ],
      "source": [
        "for i in reversed(range(3)):\n",
        "    print(i)"
      ]
    },
    {
      "cell_type": "markdown",
      "metadata": {
        "id": "FRwVGv9ne-v2"
      },
      "source": [
        "`enumerate` - returns the iteration step count as well as the iterator value"
      ]
    },
    {
      "cell_type": "code",
      "execution_count": null,
      "metadata": {
        "id": "oPfqPTCIe-v2",
        "outputId": "3388b80d-2af4-420b-ec05-3f1b8f2d8243"
      },
      "outputs": [
        {
          "name": "stdout",
          "output_type": "stream",
          "text": [
            "0 a\n",
            "1 b\n",
            "2 c\n"
          ]
        }
      ],
      "source": [
        "for i, a in enumerate('abc'):\n",
        "    print(i, a)"
      ]
    },
    {
      "cell_type": "markdown",
      "metadata": {
        "id": "Y5Kvc4f2e-v2"
      },
      "source": [
        "### Exercise\n",
        "\n",
        "Implement your own versions of `zip` and `enumerate` using generators"
      ]
    },
    {
      "cell_type": "code",
      "execution_count": null,
      "metadata": {
        "id": "5wFKGAExe-v2"
      },
      "outputs": [],
      "source": [
        "## Your code here\n"
      ]
    },
    {
      "cell_type": "code",
      "execution_count": null,
      "metadata": {
        "tags": [
          "hide-cell"
        ],
        "id": "GcV31B8We-v2",
        "outputId": "6fecef9a-8e9c-4662-97e9-d40f820e7c68"
      },
      "outputs": [
        {
          "name": "stdout",
          "output_type": "stream",
          "text": [
            "0 a\n",
            "1 b\n",
            "2 c\n"
          ]
        }
      ],
      "source": [
        "def my_zip(a, b):\n",
        "    ai = iter(a)\n",
        "    bi = iter(b)\n",
        "    while True:\n",
        "        try:\n",
        "            yield next(ai), next(bi)\n",
        "        except:\n",
        "            return\n",
        "\n",
        "for i, a in my_zip(range(3), 'abc'):\n",
        "    print(i,a)"
      ]
    },
    {
      "cell_type": "code",
      "execution_count": null,
      "metadata": {
        "tags": [
          "hide-cell"
        ],
        "id": "2Yw2gMIIe-v2",
        "outputId": "9077bba3-6a1e-48f2-d533-a71e036ca7a7"
      },
      "outputs": [
        {
          "name": "stdout",
          "output_type": "stream",
          "text": [
            "0 a\n",
            "1 b\n",
            "2 c\n",
            "3 d\n"
          ]
        }
      ],
      "source": [
        "def my_enumerate(a):\n",
        "    ct = 0\n",
        "    for x in a:\n",
        "        yield ct, x\n",
        "        ct = ct + 1\n",
        "\n",
        "for i, a in my_enumerate('abcd'):\n",
        "    print(i, a)"
      ]
    },
    {
      "cell_type": "markdown",
      "metadata": {
        "id": "gnH746jve-v3"
      },
      "source": [
        "## The Itertools Package\n",
        "\n",
        "A useful package for dealing with iterators is the [itertools package](https://docs.python.org/3.8/library/itertools.html).  Here are a few examples - click on the link to see what else the package provides.\n",
        "\n",
        "`product` gives the equivalent of a nested for-loop"
      ]
    },
    {
      "cell_type": "code",
      "execution_count": null,
      "metadata": {
        "id": "2ArtsX2Ie-v3",
        "outputId": "fe18ca08-8f3e-4283-9dae-922c974231b7"
      },
      "outputs": [
        {
          "name": "stdout",
          "output_type": "stream",
          "text": [
            "0 0\n",
            "0 1\n",
            "0 2\n",
            "1 0\n",
            "1 1\n",
            "1 2\n"
          ]
        }
      ],
      "source": [
        "from itertools import product\n",
        "\n",
        "for i, j in product(range(2), range(3)):\n",
        "    print(i, j)"
      ]
    },
    {
      "cell_type": "code",
      "execution_count": null,
      "metadata": {
        "id": "8mFmRP_fe-v3",
        "outputId": "6aeb91b5-3360-45ce-82a8-442b2599d8ec"
      },
      "outputs": [
        {
          "name": "stdout",
          "output_type": "stream",
          "text": [
            "0 0\n",
            "0 1\n",
            "0 2\n",
            "1 0\n",
            "1 1\n",
            "1 2\n"
          ]
        }
      ],
      "source": [
        "# equivalent to:\n",
        "for i in range(2):\n",
        "    for j in range(3):\n",
        "        print(i,j)"
      ]
    },
    {
      "cell_type": "markdown",
      "metadata": {
        "id": "dYPB1_YDe-v3"
      },
      "source": [
        "`repeat` just repeats a value"
      ]
    },
    {
      "cell_type": "code",
      "execution_count": null,
      "metadata": {
        "id": "CB9iA811e-v3",
        "outputId": "501921ce-20a1-49f6-898b-5c70ce3bafbd"
      },
      "outputs": [
        {
          "name": "stdout",
          "output_type": "stream",
          "text": [
            "10\n",
            "10\n",
            "10\n",
            "10\n",
            "10\n"
          ]
        }
      ],
      "source": [
        "from itertools import repeat\n",
        "\n",
        "for i in repeat(10, 5):\n",
        "    print(i)"
      ]
    },
    {
      "cell_type": "markdown",
      "metadata": {
        "id": "8WMHwnxve-v4"
      },
      "source": [
        "`permutations`"
      ]
    },
    {
      "cell_type": "code",
      "execution_count": null,
      "metadata": {
        "id": "Mh84J2sOe-v4",
        "outputId": "bdcbd46c-203d-4d2c-e2e4-2e81e2928ef5"
      },
      "outputs": [
        {
          "name": "stdout",
          "output_type": "stream",
          "text": [
            "(0, 1, 2)\n",
            "(0, 2, 1)\n",
            "(1, 0, 2)\n",
            "(1, 2, 0)\n",
            "(2, 0, 1)\n",
            "(2, 1, 0)\n"
          ]
        }
      ],
      "source": [
        "from itertools import permutations\n",
        "\n",
        "for p in permutations(range(3)):\n",
        "    print(p)"
      ]
    },
    {
      "cell_type": "markdown",
      "metadata": {
        "id": "sAsvfzMce-v4"
      },
      "source": [
        "### Exercise\n",
        "\n",
        "Implement your own version of `product` and `repeat` using generators."
      ]
    },
    {
      "cell_type": "code",
      "execution_count": null,
      "metadata": {
        "id": "YdUGCJEVe-v4"
      },
      "outputs": [],
      "source": [
        "## Your code here\n"
      ]
    },
    {
      "cell_type": "code",
      "execution_count": null,
      "metadata": {
        "tags": [
          "hide-cell"
        ],
        "id": "RaGGnTKme-v4",
        "outputId": "8bd16db4-d4dd-4b99-f5f0-dbc844898e7a"
      },
      "outputs": [
        {
          "name": "stdout",
          "output_type": "stream",
          "text": [
            "0 0\n",
            "0 1\n",
            "0 2\n",
            "1 0\n",
            "1 1\n",
            "1 2\n"
          ]
        }
      ],
      "source": [
        "def my_product(a, b):\n",
        "    for x in a:\n",
        "        for y in b:\n",
        "            yield x, y\n",
        "\n",
        "for x, y in my_product(range(2), range(3)):\n",
        "    print(x,y)"
      ]
    },
    {
      "cell_type": "code",
      "execution_count": null,
      "metadata": {
        "tags": [
          "hide-cell"
        ],
        "id": "C2zwGNsle-v5",
        "outputId": "ce490c68-68ed-4522-d7df-fa2ceb499155"
      },
      "outputs": [
        {
          "name": "stdout",
          "output_type": "stream",
          "text": [
            "10\n",
            "10\n",
            "10\n",
            "10\n",
            "10\n"
          ]
        }
      ],
      "source": [
        "def my_repeat(n, ct):\n",
        "    for i in range(ct):\n",
        "        yield n\n",
        "\n",
        "for x in my_repeat(10, 5):\n",
        "    print(x)"
      ]
    },
    {
      "cell_type": "markdown",
      "metadata": {
        "id": "fMNCVTjYe-v5"
      },
      "source": [
        "## Iterators for Scientific Computing\n",
        "\n",
        "One way you might use an iterator in scientific computing is when implementing an iterative algorithm.\n",
        "\n",
        "Here is an example of the power method, which finds the largest eigenvalue-eigenvector pair of a matrix."
      ]
    },
    {
      "cell_type": "code",
      "execution_count": null,
      "metadata": {
        "id": "QZq2pvZ5e-v5"
      },
      "outputs": [],
      "source": [
        "import numpy as np\n",
        "\n",
        "def PowerMethodGenerator(A, x):\n",
        "\n",
        "    def RayleighQuotient(A, x):\n",
        "        \"\"\"\n",
        "        x^T A x / x^T x\n",
        "        \"\"\"\n",
        "        return np.dot(x, A @ x) / np.dot(x,x)\n",
        "\n",
        "    x = x / np.linalg.norm(x)\n",
        "    rq_prev = np.inf\n",
        "    rq = RayleighQuotient(A, x)\n",
        "\n",
        "    while True:\n",
        "        # yield state: RayleighQuotient, x, and difference from previous iteration\n",
        "        yield rq, x, np.abs(rq - rq_prev)\n",
        "\n",
        "        # compute next iteration\n",
        "        x = A @ x\n",
        "        x = x / np.linalg.norm(x)\n",
        "        rq_prev = rq\n",
        "        rq = RayleighQuotient(A, x)\n"
      ]
    },
    {
      "cell_type": "code",
      "execution_count": null,
      "metadata": {
        "id": "tXpLgtP2e-v6",
        "outputId": "1d9a1256-db84-4e7c-83ca-3b2d041ea069"
      },
      "outputs": [
        {
          "name": "stdout",
          "output_type": "stream",
          "text": [
            "89.81253501091724 inf\n",
            "242.85910417948966 153.04656916857243\n",
            "444.85274716457826 201.9936429850886\n",
            "574.2764337134453 129.423686548867\n",
            "605.3333719186537 31.05693820520844\n",
            "611.5407739473036 6.207402028649881\n",
            "612.9106617975037 1.3698878502001435\n",
            "613.2485808429876 0.3379190454838863\n",
            "613.3392058160957 0.09062497310810613\n",
            "613.3650279556526 0.02582213955690804\n",
            "613.3727234642167 0.0076955085640975085\n",
            "613.3750960037759 0.002372539559132747\n",
            "613.375846586167 0.0007505823911060361\n",
            "613.3760887640708 0.00024217790382863313\n",
            "613.376168092833 7.932876224003849e-05\n"
          ]
        }
      ],
      "source": [
        "# here's a version that uses the generator in a while-loop\n",
        "\n",
        "n = 100\n",
        "A = np.random.randn(n, n)\n",
        "A = A @ A.T + 5 # constant increases eigenvalue in constant vector direction\n",
        "x0 = np.random.randn(n)\n",
        "\n",
        "solver = PowerMethodGenerator(A, x0)\n",
        "tol = 1e-4\n",
        "\n",
        "while True:\n",
        "    rq, x, eps = next(solver)\n",
        "    print(rq, eps)\n",
        "    if eps < tol:\n",
        "        break"
      ]
    },
    {
      "cell_type": "markdown",
      "metadata": {
        "id": "lCBnrRjbe-v6"
      },
      "source": [
        "If we decide that we're not satisfied with convergence yet, we can resume where we left off"
      ]
    },
    {
      "cell_type": "code",
      "execution_count": null,
      "metadata": {
        "id": "-vuLPRvze-v6",
        "outputId": "92f85fbe-ce90-4c9d-c052-9cff8f2e3985"
      },
      "outputs": [
        {
          "name": "stdout",
          "output_type": "stream",
          "text": [
            "613.3761943849217 2.6292088705304195e-05\n",
            "613.3762031806232 8.795701432973146e-06\n",
            "613.3762061456915 2.965068347293709e-06\n",
            "613.3762071517388 1.006047227747331e-06\n",
            "613.3762074950506 3.4331185361224925e-07\n"
          ]
        }
      ],
      "source": [
        "tol = 1e-6\n",
        "\n",
        "while True:\n",
        "    rq, x, eps = next(solver)\n",
        "    print(rq, eps)\n",
        "    if eps < tol:\n",
        "        break\n",
        "\n"
      ]
    },
    {
      "cell_type": "markdown",
      "metadata": {
        "id": "h5rntBKMe-v7"
      },
      "source": [
        "You can do the same thing with for-loops"
      ]
    },
    {
      "cell_type": "code",
      "execution_count": null,
      "metadata": {
        "id": "-XCddQise-v7",
        "outputId": "648e8af4-3534-424f-fb4f-fafa7b7306b9"
      },
      "outputs": [
        {
          "name": "stdout",
          "output_type": "stream",
          "text": [
            "98.54240658228312 inf\n",
            "263.89481933418114 165.35241275189802\n",
            "323.65196672338845 59.75714738920732\n",
            "390.0128085671451 66.36084184375665\n",
            "484.9275155474049 94.91470698025978\n",
            "563.0011106312606 78.07359508385576\n",
            "599.1416496541569 36.14053902289629\n",
            "611.5563409103167 12.414691256159813\n",
            "615.457347021376 3.901006111059246\n",
            "616.6819177841095 1.2245707627334923\n",
            "617.078052353799 0.3961345696894796\n",
            "617.2115459496376 0.13349359583867226\n",
            "617.2585339675145 0.04698801787685625\n",
            "617.275774701485 0.017240733970538713\n",
            "617.2823363892841 0.006561687799035099\n",
            "617.2849102204586 0.0025738311745726605\n",
            "617.2859439103643 0.0010336899056255788\n",
            "617.2863664706344 0.0004225602701808384\n",
            "617.2865414495121 0.00017497887768058717\n",
            "617.2866145761685 7.312665638892213e-05\n",
            "\n",
            "resuming iteration after decreasing tolerance\n",
            "\n",
            "617.2866453354011 3.075923257256363e-05\n",
            "617.2866583321916 1.2996790474062436e-05\n",
            "617.286663841021 5.508829417522065e-06\n",
            "617.2866661810857 2.34006472510373e-06\n",
            "617.2866671766113 9.95525624603033e-07\n"
          ]
        }
      ],
      "source": [
        "# here's a version that uses the generator in a for-loop\n",
        "\n",
        "n = 100\n",
        "A = np.random.randn(n, n)\n",
        "A = (A @ A.T) + 5 # constant increases eigenvalue in constant vector direction\n",
        "x0 = np.random.randn(n)\n",
        "\n",
        "solver = PowerMethodGenerator(A, x0)\n",
        "tol = 1e-4\n",
        "\n",
        "for rq, x, eps in solver:\n",
        "    print(rq, eps)\n",
        "    if eps < tol:\n",
        "        break\n",
        "\n",
        "tol = 1e-6\n",
        "print('\\nresuming iteration after decreasing tolerance\\n')\n",
        "for rq, x, eps in solver:\n",
        "    print(rq, eps)\n",
        "    if eps < tol:\n",
        "        break"
      ]
    },
    {
      "cell_type": "code",
      "execution_count": null,
      "metadata": {
        "id": "8F34-lzhe-v7"
      },
      "outputs": [],
      "source": []
    }
  ],
  "metadata": {
    "celltoolbar": "Tags",
    "kernelspec": {
      "display_name": "Python (pycourse)",
      "language": "python",
      "name": "pycourse"
    },
    "language_info": {
      "codemirror_mode": {
        "name": "ipython",
        "version": 3
      },
      "file_extension": ".py",
      "mimetype": "text/x-python",
      "name": "python",
      "nbconvert_exporter": "python",
      "pygments_lexer": "ipython3",
      "version": "3.8.3"
    },
    "colab": {
      "provenance": []
    }
  },
  "nbformat": 4,
  "nbformat_minor": 0
}