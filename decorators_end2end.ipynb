{
  "cells": [
    {
      "cell_type": "markdown",
      "metadata": {
        "id": "bhOSj2_PhWJ4"
      },
      "source": [
        "# Decorators"
      ]
    },
    {
      "cell_type": "code",
      "source": [],
      "metadata": {
        "id": "a5K40eXw2kMk"
      },
      "execution_count": null,
      "outputs": []
    },
    {
      "cell_type": "code",
      "source": [],
      "metadata": {
        "id": "PiWjBnEm2kaj"
      },
      "execution_count": null,
      "outputs": []
    },
    {
      "cell_type": "markdown",
      "source": [
        "Python decorators allow you to change the behavior of a function without modifying the function tself"
      ],
      "metadata": {
        "id": "qZNfacG72knr"
      }
    },
    {
      "cell_type": "code",
      "source": [],
      "metadata": {
        "id": "TZ0_OuL52y2u"
      },
      "execution_count": null,
      "outputs": []
    },
    {
      "cell_type": "markdown",
      "source": [
        "You'll use a decorator when you need to change the behavior of a function without modifying the function itself. A few good examples are when you want to add logging, test performance, perform caching, verify permissions, and so on.\n",
        "\n",
        "You can also use one when you need to run the same code on multiple functions. This avoids you writing duplicating code"
      ],
      "metadata": {
        "id": "bTTImFgR29E_"
      }
    },
    {
      "cell_type": "code",
      "source": [],
      "metadata": {
        "id": "0Nn4lMCI2-Ga"
      },
      "execution_count": null,
      "outputs": []
    },
    {
      "cell_type": "markdown",
      "source": [
        "A function is an object. Because of that, a function can be assigned to a variable. The function can be accessed from that variable."
      ],
      "metadata": {
        "id": "vBLBkC6N3Fp8"
      }
    },
    {
      "cell_type": "code",
      "source": [
        "def my_function():\n",
        "\n",
        "    print('I am a function.')\n",
        "\n",
        "# Assign the function to a variable without parenthesis. We don't want to execute the function.\n",
        "\n",
        "description = my_function"
      ],
      "metadata": {
        "id": "mxYgwB0g2-X6"
      },
      "execution_count": null,
      "outputs": []
    },
    {
      "cell_type": "code",
      "source": [
        "# Accessing the function from the variable I assigned it to.\n",
        "\n",
        "print(description())\n",
        "\n"
      ],
      "metadata": {
        "id": "FtAPh4mU3LhT",
        "outputId": "a810cf11-23c3-4fd1-ffa8-d9df35bbec96",
        "colab": {
          "base_uri": "https://localhost:8080/",
          "height": 70
        }
      },
      "execution_count": null,
      "outputs": [
        {
          "output_type": "stream",
          "name": "stdout",
          "text": [
            "I am a function.\n",
            "None\n"
          ]
        },
        {
          "output_type": "execute_result",
          "data": {
            "text/plain": [
              "'I am a function.'"
            ],
            "application/vnd.google.colaboratory.intrinsic+json": {
              "type": "string"
            }
          },
          "metadata": {},
          "execution_count": 2
        }
      ]
    },
    {
      "cell_type": "markdown",
      "source": [
        "A function can be nested within another function."
      ],
      "metadata": {
        "id": "04YXGlHn3RaQ"
      }
    },
    {
      "cell_type": "code",
      "source": [
        "def outer_function():\n",
        "\n",
        "    def inner_function():\n",
        "\n",
        "        print('I came from the inner function.')\n",
        "\n",
        "    # Executing the inner function inside the outer function.\n",
        "    inner_function()"
      ],
      "metadata": {
        "id": "cJYCaEPb3Swv"
      },
      "execution_count": null,
      "outputs": []
    },
    {
      "cell_type": "code",
      "source": [
        "outer_function()"
      ],
      "metadata": {
        "id": "vAdulAP_2-f8",
        "outputId": "b9f5aa77-ed72-48e3-afff-43350c807670",
        "colab": {
          "base_uri": "https://localhost:8080/"
        }
      },
      "execution_count": null,
      "outputs": [
        {
          "output_type": "stream",
          "name": "stdout",
          "text": [
            "I came from the inner function.\n"
          ]
        }
      ]
    },
    {
      "cell_type": "markdown",
      "source": [
        "Note that the inner_function is not available outside the outer_function.\n",
        "\n",
        " If I try to execute the inner_function outside of the outer_function I receive a NameError exception."
      ],
      "metadata": {
        "id": "fnLMQikB3jVP"
      }
    },
    {
      "cell_type": "code",
      "source": [
        "inner_function()"
      ],
      "metadata": {
        "id": "-0dBLMlu3lly",
        "outputId": "a8a14aec-70e0-4917-9843-90d391300998",
        "colab": {
          "base_uri": "https://localhost:8080/",
          "height": 176
        }
      },
      "execution_count": null,
      "outputs": [
        {
          "output_type": "error",
          "ename": "NameError",
          "evalue": "ignored",
          "traceback": [
            "\u001b[0;31m---------------------------------------------------------------------------\u001b[0m",
            "\u001b[0;31mNameError\u001b[0m                                 Traceback (most recent call last)",
            "\u001b[0;32m<ipython-input-5-2d4b0e5c4556>\u001b[0m in \u001b[0;36m<cell line: 1>\u001b[0;34m()\u001b[0m\n\u001b[0;32m----> 1\u001b[0;31m \u001b[0minner_function\u001b[0m\u001b[0;34m(\u001b[0m\u001b[0;34m)\u001b[0m\u001b[0;34m\u001b[0m\u001b[0;34m\u001b[0m\u001b[0m\n\u001b[0m",
            "\u001b[0;31mNameError\u001b[0m: name 'inner_function' is not defined"
          ]
        }
      ]
    },
    {
      "cell_type": "markdown",
      "source": [
        "Since a function can be nested inside another function it can also be returned."
      ],
      "metadata": {
        "id": "b_LS5UEa3uGY"
      }
    },
    {
      "cell_type": "code",
      "source": [
        "def outer_function():\n",
        "    '''Assign task to student'''\n",
        "\n",
        "    task = 'Read Python book chapter 3.'\n",
        "    def inner_function():\n",
        "        print(task)\n",
        "    return inner_function\n",
        "\n",
        "homework = outer_function()"
      ],
      "metadata": {
        "id": "w3TKifbx3waD"
      },
      "execution_count": null,
      "outputs": []
    },
    {
      "cell_type": "markdown",
      "source": [],
      "metadata": {
        "id": "zudNRozR3jgj"
      }
    },
    {
      "cell_type": "code",
      "source": [
        "homework()"
      ],
      "metadata": {
        "id": "embbVH_G33gE",
        "outputId": "0cfeaf3e-5d1a-4b16-d85b-3e8fa9c297dd",
        "colab": {
          "base_uri": "https://localhost:8080/"
        }
      },
      "execution_count": null,
      "outputs": [
        {
          "output_type": "stream",
          "name": "stdout",
          "text": [
            "Read Python book chapter 3.\n"
          ]
        }
      ]
    },
    {
      "cell_type": "markdown",
      "source": [
        "A function can be passed to another function as an argument."
      ],
      "metadata": {
        "id": "K_SLlSqz3ji-"
      }
    },
    {
      "cell_type": "code",
      "source": [
        "def friendly_reminder(func):\n",
        "    '''Reminder for husband'''\n",
        "\n",
        "    func()\n",
        "    print('Don\\'t forget to bring your wallet!')\n",
        "\n",
        "def action():\n",
        "\n",
        "    print('I am going to the store buy you something nice.')"
      ],
      "metadata": {
        "id": "It5UnwFG4B1S"
      },
      "execution_count": null,
      "outputs": []
    },
    {
      "cell_type": "code",
      "source": [
        "# Calling the friendly_reminder function with the action function used as an argument.\n",
        "\n",
        "friendly_reminder(action)\n"
      ],
      "metadata": {
        "id": "oUsAYb_u4M0b",
        "outputId": "e6322109-2174-4744-ae8e-4c78637835ae",
        "colab": {
          "base_uri": "https://localhost:8080/"
        }
      },
      "execution_count": null,
      "outputs": [
        {
          "output_type": "stream",
          "name": "stdout",
          "text": [
            "I am going to the store buy you something nice.\n",
            "Don't forget to bring your wallet!\n"
          ]
        }
      ]
    },
    {
      "cell_type": "code",
      "source": [],
      "metadata": {
        "id": "fOKcbNhn4TJ4"
      },
      "execution_count": null,
      "outputs": []
    },
    {
      "cell_type": "markdown",
      "source": [
        "To create a decorator function in Python, I create an outer function that takes a function as an argument. There is also an inner function that wraps around the decorated function.\n",
        "\n",
        "Here is the syntax for a basic Python decorator"
      ],
      "metadata": {
        "id": "SVZ58wS24iiW"
      }
    },
    {
      "cell_type": "markdown",
      "source": [],
      "metadata": {
        "id": "-zbRXD-o4jxT"
      }
    },
    {
      "cell_type": "code",
      "source": [
        "def my_decorator_func(func):\n",
        "\n",
        "    def wrapper_func():\n",
        "        # Do something before the function.\n",
        "        func()\n",
        "        # Do something after the function.\n",
        "    return wrapper_func"
      ],
      "metadata": {
        "id": "m7iZW7XP4kPK"
      },
      "execution_count": null,
      "outputs": []
    },
    {
      "cell_type": "markdown",
      "source": [
        "To use a decorator ,you attach it to a function like you see in the code below.\n",
        "\n",
        "We use a decorator by placing the name of the decorator directly above the function we want to use it on. You prefix the decorator function with an @ symbol."
      ],
      "metadata": {
        "id": "UKnO2my545oP"
      }
    },
    {
      "cell_type": "code",
      "source": [
        "@my_decorator_func\n",
        "def my_func():\n",
        "\n",
        "    pass"
      ],
      "metadata": {
        "id": "EEvyVIjX46iK"
      },
      "execution_count": null,
      "outputs": []
    },
    {
      "cell_type": "code",
      "source": [
        "from datetime import datetime\n",
        "\n",
        "\n",
        "def log_datetime(func):\n",
        "    '''Log the date and time of a function'''\n",
        "\n",
        "    def wrapper():\n",
        "        print(f'Function: {func.__name__}\\nRun on: {datetime.today().strftime(\"%Y-%m-%d %H:%M:%S\")}')\n",
        "        print(f'{\"-\"*30}')\n",
        "        func()\n",
        "    return wrapper\n",
        "\n",
        "\n",
        "@log_datetime\n",
        "def daily_backup():\n",
        "\n",
        "    print('Daily backup job has finished.')"
      ],
      "metadata": {
        "id": "HeDz0iEq4TTa"
      },
      "execution_count": null,
      "outputs": []
    },
    {
      "cell_type": "code",
      "source": [
        "daily_backup()"
      ],
      "metadata": {
        "colab": {
          "base_uri": "https://localhost:8080/"
        },
        "id": "0qK2R4HL5kTR",
        "outputId": "7ed6203f-74c6-46a7-9878-5c5be06b28bd"
      },
      "execution_count": null,
      "outputs": [
        {
          "output_type": "stream",
          "name": "stdout",
          "text": [
            "Function: daily_backup\n",
            "Run on: 2023-10-03 04:58:05\n",
            "------------------------------\n",
            "Daily backup job has finished.\n"
          ]
        }
      ]
    },
    {
      "cell_type": "code",
      "source": [],
      "metadata": {
        "id": "bVz3cQ6d5omV"
      },
      "execution_count": null,
      "outputs": []
    },
    {
      "cell_type": "markdown",
      "source": [
        "Decorators can have arguments passed to them. To add arguments to decorators I add *args and **kwargs to the inner functions.\n",
        "\n",
        "*args will take an unlimited number of arguments of any type, such as 10, True, or 'Brandon'.\n",
        "**kwargs will take an unlimited number of keyword arguments, such as count=99, is_authenticated=True, or name='Brandon'"
      ],
      "metadata": {
        "id": "9zfxYoZY5wZf"
      }
    },
    {
      "cell_type": "code",
      "source": [
        "def my_decorator_func(func):\n",
        "\n",
        "    def wrapper_func(*args, **kwargs):\n",
        "        # Do something before the function.\n",
        "        func(*args, **kwargs)\n",
        "        # Do something after the function.\n",
        "    return wrapper_func\n",
        "\n",
        "\n",
        "@my_decorator_func\n",
        "def my_func(my_arg):\n",
        "    '''Example docstring for function'''\n",
        "\n",
        "    pass"
      ],
      "metadata": {
        "id": "vL7Xh9ru5oqA"
      },
      "execution_count": null,
      "outputs": []
    },
    {
      "cell_type": "markdown",
      "source": [
        "Decorators hide the function they are decorating. If I check the __name__ or __doc__ method we get an unexpected result."
      ],
      "metadata": {
        "id": "jsGQEHW853I1"
      }
    },
    {
      "cell_type": "code",
      "source": [
        "print(my_func.__name__)\n",
        "print(my_func.__doc__)"
      ],
      "metadata": {
        "colab": {
          "base_uri": "https://localhost:8080/"
        },
        "id": "S1Wo2TH06YDq",
        "outputId": "0e59b56a-66c5-43b1-d20f-efbf4b2004e6"
      },
      "execution_count": null,
      "outputs": [
        {
          "output_type": "stream",
          "name": "stdout",
          "text": [
            "wrapper_func\n",
            "None\n"
          ]
        }
      ]
    },
    {
      "cell_type": "markdown",
      "source": [
        "To fix this issue I will use functools. Functools wraps will update the decorator with the decorated functions attributes"
      ],
      "metadata": {
        "id": "-tusBsNw5o9m"
      }
    },
    {
      "cell_type": "code",
      "source": [
        "from functools import wraps\n",
        "\n",
        "def my_decorator_func(func):\n",
        "\n",
        "    @wraps(func)\n",
        "    def wrapper_func(*args, **kwargs):\n",
        "        func(*args, **kwargs)\n",
        "    return wrapper_func\n",
        "\n",
        "@my_decorator_func\n",
        "def my_func(my_args):\n",
        "    '''Example docstring for function'''\n",
        "\n",
        "    pass"
      ],
      "metadata": {
        "id": "G30TRXeV6m7T"
      },
      "execution_count": null,
      "outputs": []
    },
    {
      "cell_type": "code",
      "source": [
        "print(my_func.__name__)\n",
        "print(my_func.__doc__)\n"
      ],
      "metadata": {
        "colab": {
          "base_uri": "https://localhost:8080/"
        },
        "id": "dfEOrepk6y_F",
        "outputId": "5b092d21-9161-49c3-c037-0a167f070407"
      },
      "execution_count": null,
      "outputs": [
        {
          "output_type": "stream",
          "name": "stdout",
          "text": [
            "my_func\n",
            "Example docstring for function\n"
          ]
        }
      ]
    },
    {
      "cell_type": "code",
      "source": [
        "from functools import wraps\n",
        "import tracemalloc\n",
        "from time import perf_counter\n",
        "\n",
        "\n",
        "def measure_performance(func):\n",
        "    '''Measure performance of a function'''\n",
        "\n",
        "    @wraps(func)\n",
        "    def wrapper(*args, **kwargs):\n",
        "        tracemalloc.start()\n",
        "        start_time = perf_counter()\n",
        "        func(*args, **kwargs)\n",
        "        current, peak = tracemalloc.get_traced_memory()\n",
        "        finish_time = perf_counter()\n",
        "        print(f'Function: {func.__name__}')\n",
        "        print(f'Method: {func.__doc__}')\n",
        "        print(f'Memory usage:\\t\\t {current / 10**6:.6f} MB \\n'\n",
        "              f'Peak memory usage:\\t {peak / 10**6:.6f} MB ')\n",
        "        print(f'Time elapsed is seconds: {finish_time - start_time:.6f}')\n",
        "        print(f'{\"-\"*40}')\n",
        "        tracemalloc.stop()\n",
        "    return wrapper\n",
        "\n",
        "\n",
        "@measure_performance\n",
        "def make_list1():\n",
        "    '''Range'''\n",
        "\n",
        "    my_list = list(range(100000))\n",
        "\n",
        "\n",
        "@measure_performance\n",
        "def make_list2():\n",
        "    '''List comprehension'''\n",
        "\n",
        "    my_list = [l for l in range(100000)]\n",
        "\n",
        "\n",
        "@measure_performance\n",
        "def make_list3():\n",
        "    '''Append'''\n",
        "\n",
        "    my_list = []\n",
        "    for item in range(100000):\n",
        "        my_list.append(item)\n",
        "\n",
        "\n",
        "@measure_performance\n",
        "def make_list4():\n",
        "    '''Concatenation'''\n",
        "\n",
        "    my_list = []\n",
        "    for item in range(100000):\n",
        "        my_list = my_list + [item]\n",
        "\n",
        "\n",
        "print(make_list1())\n",
        "print(make_list2())\n",
        "print(make_list3())\n",
        "print(make_list4())"
      ],
      "metadata": {
        "colab": {
          "base_uri": "https://localhost:8080/"
        },
        "id": "oqk3k-4A60K2",
        "outputId": "c43a5895-43fc-478e-801b-bce100416b3d"
      },
      "execution_count": null,
      "outputs": [
        {
          "output_type": "stream",
          "name": "stdout",
          "text": [
            "Function: make_list1\n",
            "Method: Range\n",
            "Memory usage:\t\t 0.000616 MB \n",
            "Peak memory usage:\t 3.593484 MB \n",
            "Time elapsed is seconds: 0.059018\n",
            "----------------------------------------\n",
            "None\n",
            "Function: make_list2\n",
            "Method: List comprehension\n",
            "Memory usage:\t\t 0.003365 MB \n",
            "Peak memory usage:\t 3.597289 MB \n",
            "Time elapsed is seconds: 0.058170\n",
            "----------------------------------------\n",
            "None\n",
            "Function: make_list3\n",
            "Method: Append\n",
            "Memory usage:\t\t 0.001096 MB \n",
            "Peak memory usage:\t 3.594876 MB \n",
            "Time elapsed is seconds: 0.072859\n",
            "----------------------------------------\n",
            "None\n",
            "Function: make_list4\n",
            "Method: Concatenation\n",
            "Memory usage:\t\t 0.034769 MB \n",
            "Peak memory usage:\t 4.427879 MB \n",
            "Time elapsed is seconds: 18.901216\n",
            "----------------------------------------\n",
            "None\n"
          ]
        }
      ]
    },
    {
      "cell_type": "markdown",
      "source": [
        "I have created a decorator that will measure memory and speed of a function.\n",
        "We'll use the decorator to test the performance list generation using four methods: range, list comprehension, append, and concatenation."
      ],
      "metadata": {
        "id": "7p3y39z863cd"
      }
    },
    {
      "cell_type": "code",
      "source": [],
      "metadata": {
        "id": "YsB2uJdn65Ha"
      },
      "execution_count": null,
      "outputs": []
    },
    {
      "cell_type": "markdown",
      "source": [
        "You can use decorators with classes as well. Let's see how you use decorators with a Python class.\n",
        "\n",
        "In this example, notice there is no @ character involved. With the __call__ method the decorator is executed when an instance of the class is created.\n",
        "\n",
        "This class keeps track of the number of times a function to query to an API has been run. Once it reaches the limit the decorator stops the function from executing."
      ],
      "metadata": {
        "id": "cUtpSmwe7URW"
      }
    },
    {
      "cell_type": "code",
      "source": [
        "import requests\n",
        "\n",
        "\n",
        "class LimitQuery:\n",
        "\n",
        "    def __init__(self, func):\n",
        "        self.func = func\n",
        "        self.count = 0\n",
        "\n",
        "    def __call__(self, *args, **kwargs):\n",
        "        self.limit = args[0]\n",
        "        if self.count < self.limit:\n",
        "            self.count += 1\n",
        "            return self.func(*args, **kwargs)\n",
        "        else:\n",
        "            print(f'No queries left. All {self.count} queries used.')\n",
        "            return\n",
        "\n",
        "@LimitQuery\n",
        "def get_coin_price(limit):\n",
        "    '''View the Bitcoin Price Index (BPI)'''\n",
        "\n",
        "    url = requests.get('https://api.coindesk.com/v1/bpi/currentprice.json')\n",
        "\n",
        "    if url.status_code == 200:\n",
        "        text = url.json()\n",
        "        return f\"${float(text['bpi']['USD']['rate_float']):.2f}\"\n",
        "\n",
        "\n",
        "print(get_coin_price(5))\n",
        "print(get_coin_price(5))\n",
        "print(get_coin_price(5))\n",
        "print(get_coin_price(5))\n",
        "print(get_coin_price(5))\n",
        "print(get_coin_price(5))"
      ],
      "metadata": {
        "colab": {
          "base_uri": "https://localhost:8080/"
        },
        "id": "q6sVPNJD6m9I",
        "outputId": "4c7bc84c-cd7b-4337-f32e-67f4feb23b62"
      },
      "execution_count": null,
      "outputs": [
        {
          "output_type": "stream",
          "name": "stdout",
          "text": [
            "$27605.46\n",
            "$27605.46\n",
            "$27605.46\n",
            "$27605.46\n",
            "$27605.46\n",
            "No queries left. All 5 queries used.\n",
            "None\n"
          ]
        }
      ]
    },
    {
      "cell_type": "code",
      "source": [],
      "metadata": {
        "id": "NhzpFdSW6nIy"
      },
      "execution_count": null,
      "outputs": []
    },
    {
      "cell_type": "code",
      "execution_count": null,
      "metadata": {
        "id": "V5E0I_c1hWJ-",
        "outputId": "7f5d3d01-5a96-4de8-eb4d-f57356c0e8a1"
      },
      "outputs": [
        {
          "name": "stdout",
          "output_type": "stream",
          "text": [
            "Populating the interactive namespace from numpy and matplotlib\n"
          ]
        }
      ],
      "source": [
        "%pylab inline"
      ]
    },
    {
      "cell_type": "markdown",
      "metadata": {
        "id": "kxxcH_VZhWKA"
      },
      "source": [
        "We've seen Python functions and objects.  Today, we'll breifly cover decorators, which are functions that wrap functions,\n",
        "\n",
        "```python\n",
        "@time_wrapper\n",
        "def my_function(x):\n",
        "    ...\n",
        "    \n",
        "y = my_function(x)\n",
        "```\n",
        "```\n",
        "> 1.1 seconds elapsed.\n",
        "```"
      ]
    },
    {
      "cell_type": "markdown",
      "metadata": {
        "id": "bVLW0CpYhWKB"
      },
      "source": [
        "Again, we want to write a function that wraps another function.  We can define this as"
      ]
    },
    {
      "cell_type": "code",
      "execution_count": null,
      "metadata": {
        "id": "cUWIoHUDhWKB"
      },
      "outputs": [],
      "source": [
        "from time import monotonic\n",
        "\n",
        "def time_wrapper(f):\n",
        "\n",
        "    def inner_wrapper(*args, **kwargs):\n",
        "        t0 = monotonic()\n",
        "        ret = f(*args, **kwargs)\n",
        "        t1 = monotonic()\n",
        "        print(\"{} sec. elapsed\".format(t1 - t0))\n",
        "        return ret\n",
        "\n",
        "    return inner_wrapper"
      ]
    },
    {
      "cell_type": "markdown",
      "metadata": {
        "id": "VWOk8gC3hWKC"
      },
      "source": [
        "Here's how we might use our wrapper:"
      ]
    },
    {
      "cell_type": "code",
      "execution_count": null,
      "metadata": {
        "id": "ZDOEkWWKhWKC",
        "outputId": "95838817-fa7b-44dc-ffab-c387dee27818"
      },
      "outputs": [
        {
          "name": "stdout",
          "output_type": "stream",
          "text": [
            "0.001988777003134601 sec. elapsed\n"
          ]
        },
        {
          "data": {
            "text/plain": [
              "100000"
            ]
          },
          "execution_count": 6,
          "metadata": {},
          "output_type": "execute_result"
        }
      ],
      "source": [
        "def generate_random(n):\n",
        "    \"\"\"\n",
        "    return a random numpy vector\n",
        "    \"\"\"\n",
        "    return np.random.rand(n)\n",
        "\n",
        "generate_random = time_wrapper(generate_random)\n",
        "\n",
        "x = generate_random(100000)\n",
        "len(x)"
      ]
    },
    {
      "cell_type": "markdown",
      "metadata": {
        "id": "TTEcNPn3hWKG"
      },
      "source": [
        "one problem with this is that we had to go through the trouble of wrapping the function. Instead, we can just write"
      ]
    },
    {
      "cell_type": "code",
      "execution_count": null,
      "metadata": {
        "id": "7WZHa3wLhWKI",
        "outputId": "bfe161f8-bf54-43ac-fc27-12e8479a9d16"
      },
      "outputs": [
        {
          "name": "stdout",
          "output_type": "stream",
          "text": [
            "0.001884669007267803 sec. elapsed\n"
          ]
        },
        {
          "data": {
            "text/plain": [
              "array([0.98937031, 0.08336035, 0.45845972, ..., 0.53122849, 0.06449548,\n",
              "       0.91733102])"
            ]
          },
          "execution_count": 7,
          "metadata": {},
          "output_type": "execute_result"
        }
      ],
      "source": [
        "@time_wrapper\n",
        "def generate_random2(n):\n",
        "    \"\"\"\n",
        "    return a random numpy vector\n",
        "    \"\"\"\n",
        "    return np.random.rand(n)\n",
        "\n",
        "generate_random2(100000)"
      ]
    },
    {
      "cell_type": "markdown",
      "metadata": {
        "id": "Y2CrUIM8hWKJ"
      },
      "source": [
        "This is interpreted like what we did above, but is a bit easier to read.\n",
        "\n",
        "Another problem we may encounter is that we now can't access the docstring we wrote"
      ]
    },
    {
      "cell_type": "code",
      "execution_count": null,
      "metadata": {
        "id": "T4Tr7I3WhWKJ",
        "outputId": "714df435-969e-4144-c35e-5a310ef189ea"
      },
      "outputs": [
        {
          "name": "stdout",
          "output_type": "stream",
          "text": [
            "Help on function inner_wrapper in module __main__:\n",
            "\n",
            "inner_wrapper(*args, **kwargs)\n",
            "\n"
          ]
        }
      ],
      "source": [
        "help(generate_random2)"
      ]
    },
    {
      "cell_type": "markdown",
      "metadata": {
        "id": "SijSB-ELhWKK"
      },
      "source": [
        "One way to solve this is to use the `wraps` decorator from the [functools](https://docs.python.org/3/library/functools.html) package."
      ]
    },
    {
      "cell_type": "code",
      "execution_count": null,
      "metadata": {
        "id": "oCE6hsROhWKN",
        "outputId": "e261457a-515e-470c-a781-66da309f545d"
      },
      "outputs": [
        {
          "name": "stdout",
          "output_type": "stream",
          "text": [
            "0.001709334013867192 sec. elapsed\n"
          ]
        },
        {
          "data": {
            "text/plain": [
              "array([0.72765311, 0.62323703, 0.53931556, ..., 0.41920835, 0.66975116,\n",
              "       0.30342516])"
            ]
          },
          "execution_count": 10,
          "metadata": {},
          "output_type": "execute_result"
        }
      ],
      "source": [
        "from functools import wraps\n",
        "\n",
        "def time_wrapper2(f):\n",
        "\n",
        "    @wraps(f)\n",
        "    def inner_wrapper(*args, **kwargs):\n",
        "        t0 = monotonic()\n",
        "        ret = f(*args, **kwargs)\n",
        "        t1 = monotonic()\n",
        "        print(\"{} sec. elapsed\".format(t1 - t0))\n",
        "        return ret\n",
        "\n",
        "    return inner_wrapper\n",
        "\n",
        "@time_wrapper2\n",
        "def generate_random3(n):\n",
        "    \"\"\"\n",
        "    return a random numpy vector\n",
        "    \"\"\"\n",
        "    return np.random.rand(n)\n",
        "\n",
        "generate_random3(100000)"
      ]
    },
    {
      "cell_type": "markdown",
      "metadata": {
        "id": "rjGGoN16hWKO"
      },
      "source": [
        "now, we can access the metadata from `generate_random3`, such as the docstring"
      ]
    },
    {
      "cell_type": "code",
      "execution_count": null,
      "metadata": {
        "id": "DnvAYqsBhWKP",
        "outputId": "54a9886a-e396-4b7a-f92e-eaa24dba47a5"
      },
      "outputs": [
        {
          "name": "stdout",
          "output_type": "stream",
          "text": [
            "Help on function generate_random3 in module __main__:\n",
            "\n",
            "generate_random3(n)\n",
            "    return a random numpy vector\n",
            "\n"
          ]
        }
      ],
      "source": [
        "help(generate_random3)"
      ]
    },
    {
      "cell_type": "markdown",
      "metadata": {
        "id": "19zAqx7jhWKP"
      },
      "source": [
        "As you might guess, the `@wraps` decorator copies the class metadata from `f` to the `inner_wrapper` function."
      ]
    },
    {
      "cell_type": "code",
      "execution_count": null,
      "metadata": {
        "id": "GMuV-a4nhWKQ"
      },
      "outputs": [],
      "source": []
    }
  ],
  "metadata": {
    "kernelspec": {
      "display_name": "Python (pycourse)",
      "language": "python",
      "name": "pycourse"
    },
    "language_info": {
      "codemirror_mode": {
        "name": "ipython",
        "version": 3
      },
      "file_extension": ".py",
      "mimetype": "text/x-python",
      "name": "python",
      "nbconvert_exporter": "python",
      "pygments_lexer": "ipython3",
      "version": "3.8.3"
    },
    "colab": {
      "provenance": []
    }
  },
  "nbformat": 4,
  "nbformat_minor": 0
}